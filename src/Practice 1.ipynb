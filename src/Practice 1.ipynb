{
 "cells": [
  {
   "cell_type": "code",
   "execution_count": 2,
   "id": "98d29bdf-39f3-4756-8671-67d755c43c1f",
   "metadata": {},
   "outputs": [
    {
     "name": "stderr",
     "output_type": "stream",
     "text": [
      "C:\\Users\\a\\AppData\\Roaming\\Python\\Python39\\site-packages\\networkx\\utils\\backends.py:135: RuntimeWarning: networkx backend defined more than once: nx-loopback\n",
      "  backends.update(_get_backends(\"networkx.backends\"))\n"
     ]
    }
   ],
   "source": [
    "import os\n",
    "import cv2\n",
    "import copy\n",
    "import torch\n",
    "import torchvision.datasets\n",
    "import albumentations\n",
    "\n",
    "import pandas as pd\n",
    "import torch.nn as nn\n",
    "import torch.optim as optim\n",
    "import torchvision.transforms as transforms\n",
    "\n",
    "from tqdm.auto import tqdm\n",
    "from torch.utils.data import Dataset, DataLoader\n",
    "from torch.optim.lr_scheduler import ExponentialLR, CosineAnnealingLR\n",
    "from sklearn.model_selection import train_test_split, StratifiedKFold\n",
    "from PIL import Image\n",
    "from albumentations.pytorch.transforms import ToTensorV2"
   ]
  },
  {
   "cell_type": "code",
   "execution_count": 3,
   "id": "f58b1d06-516d-4cc2-b10f-7b13ca9233ff",
   "metadata": {},
   "outputs": [],
   "source": [
    "train = pd.read_csv('../dataset/train.csv')\n",
    "# 对标签列进行数字编码\n",
    "# pd.factorize() 的编码规则是按标签首次出现的顺序分配编号\n",
    "# 返回一个元组，第一个元素[0] 就是所需的数值编码序列，第二个元素[1] 是所有出现过的文本标签\n",
    "train['number'], labels_unique = pd.factorize(train['label'])\n",
    "# 保存为文件，便于查看对应关系\n",
    "train.to_csv('../dataset/train_num_label3.csv')"
   ]
  },
  {
   "cell_type": "code",
   "execution_count": 4,
   "id": "0120e3f8-006d-49a2-8490-dcaac1d08b1b",
   "metadata": {},
   "outputs": [],
   "source": [
    "# 读取测试集\n",
    "test = pd.read_csv('../dataset/test.csv')"
   ]
  },
  {
   "cell_type": "code",
   "execution_count": 5,
   "id": "dfeb3e00-8e39-4335-ae68-128545899fbe",
   "metadata": {},
   "outputs": [],
   "source": [
    "# '''\n",
    "# 返回的是一个三维NumPy数组，表示图像的像素矩阵：\n",
    "#     形状：(height, width, channels)\n",
    "#         - 最外层维度：图像高度（行数）\n",
    "#         - 中间维度：图像宽度（列数）\n",
    "#         - 最内层维度：颜色通道（BGR顺序）\n",
    "# '''\n",
    "# image_path = list(train['image'])\n",
    "# image_test = cv2.imread(os.path.join('../dataset', image_path[1]))\n",
    "# image_test"
   ]
  },
  {
   "cell_type": "code",
   "execution_count": 6,
   "id": "1f9d996e-11f8-4330-a53a-caf980c92c96",
   "metadata": {},
   "outputs": [],
   "source": [
    "class Leaf_Dataset(Dataset):\n",
    "    def __init__(self, train_csv, transform=None, test_bool=False):\n",
    "        '''\n",
    "        train_csv : 记录图像路径及标号的csv文件\n",
    "        transform : 图像变换操作\n",
    "        test_bool : 是否为测试集\n",
    "        '''\n",
    "        super().__init__()\n",
    "        self.train_csv = train_csv\n",
    "        self.transform = transform\n",
    "        self.test_bool = test_bool\n",
    "        self.image_path = list(self.train_csv['image'])  # 提取所有图像路径\n",
    "        # 如果不是测试集，加载标签信息\n",
    "        if not self.test_bool:\n",
    "            self.label_nums = list(self.train_csv['number'])\n",
    "\n",
    "    def __getitem__(self, idx):\n",
    "        '''\n",
    "        获取单个样本\n",
    "        idx : 样本索引\n",
    "        return : image, label\n",
    "        '''\n",
    "        # 读取图像\n",
    "        image = cv2.imread(os.path.join('../dataset', self.image_path[idx]))\n",
    "        # 转换颜色空间( OpenCV 默认 BGR，PyTorch 需要 RGB)\n",
    "        image = cv2.cvtColor(image, cv2.COLOR_BGR2RGB)\n",
    "        if self.transform != None:\n",
    "            image = self.transform(image=image)['image']  # albumentations 同时处理多种类型的数据，以字典的形式返回\n",
    "        # 测试集只返回图像，训练集返回图像和标签\n",
    "        if not self.test_bool:\n",
    "            label = self.label_nums[idx]\n",
    "            return image, label\n",
    "        else:\n",
    "            return image\n",
    "\n",
    "    def __len__(self):\n",
    "        return len(self.image_path)"
   ]
  },
  {
   "cell_type": "code",
   "execution_count": 7,
   "id": "ad787767-a66a-4a51-864f-e54b9c802bf9",
   "metadata": {},
   "outputs": [],
   "source": [
    "# 数据增强\n",
    "transforms_train = albumentations.Compose(\n",
    "    [\n",
    "        albumentations.Resize(320, 320),            # 调整图像尺寸到 320x320 像素\n",
    "        albumentations.HorizontalFlip(p=0.5),       # 概率50%水平翻转\n",
    "        albumentations.VerticalFlip(p=0.5),         # 概率50%垂直翻转\n",
    "        albumentations.Rotate(limit=180, p=0.7),    # 随机翻转（±180°，概率70%）\n",
    "        albumentations.RandomBrightnessContrast(),  # 随机调整亮度和对比度\n",
    "        \n",
    "        albumentations.Affine(\n",
    "            translate_percent = (-0.25, 0.25),      # 平移范围 -25% 到 +25%\n",
    "            scale = (0.9, 1.1),                     # 缩放范围 90% 到 110%\n",
    "            rotate = 0,                             # 无旋转\n",
    "            p = 0.5),                               # 应用概率50%\n",
    "\n",
    "        # 图像归一化，加速模型收敛\n",
    "        albumentations.Normalize([0.485, 0.456, 0.406], [0.229, 0.224, 0.225], max_pixel_value=255.0),\n",
    "\n",
    "        # 将图像从 numpy 数组转换为 PyTorch 张量\n",
    "        ToTensorV2(p=1.0)\n",
    "    ]\n",
    ")\n",
    "\n",
    "# 不添加随机增强，保证评估结果的一致性\n",
    "transforms_test = albumentations.Compose(\n",
    "    [\n",
    "        albumentations.Resize(320, 320),\n",
    "        albumentations.Normalize([0.485, 0.456, 0.406], [0.229, 0.224, 0.225], max_pixel_value=255.0),\n",
    "        ToTensorV2(p=1.0)\n",
    "    ]\n",
    ")"
   ]
  },
  {
   "cell_type": "code",
   "execution_count": 8,
   "id": "a06c7af9-2de4-4fae-ac52-4443ad272af2",
   "metadata": {},
   "outputs": [],
   "source": [
    "def train_model(train_loader, valid_loader, test, device=torch.device('cuda:0')):\n",
    "    # 模型初始化\n",
    "    net = torchvision.models.resnet50(weights=torchvision.models.ResNet50_Weights.IMAGENET1K_V1)\n",
    "    in_features = net.fc.in_features      # 获取全连接层的输入特征维度\n",
    "    net.fc = nn.Linear(in_features, 176)  # 替换全连接层以匹配176类树叶分类任务\n",
    "    net = net.to(device)\n",
    "\n",
    "    # 训练参数设置\n",
    "    epoch = 30\n",
    "    best_epoch = 0\n",
    "    best_score = 0.0\n",
    "    best_model_state = None\n",
    "    early_stopping_round = 3\n",
    "    losses = []  # 记录每轮训练损失\n",
    "\n",
    "    # 优化器和损失函数\n",
    "    optimizer = optim.Adam(net.parameters(), lr=0.0001, weight_decay=1e-5)\n",
    "    loss = nn.CrossEntropyLoss(reduction='mean')\n",
    "    scheduler = ExponentialLR(optimizer, gamma=0.9)\n",
    "\n",
    "    # 训练循环\n",
    "    for i in range(epoch):\n",
    "        acc = 0       # 累计训练准确数\n",
    "        loss_sum = 0  # 累计训练损失\n",
    "\n",
    "        # 训练阶段\n",
    "        net.train()  \n",
    "        for x, y in tqdm(train_loader):\n",
    "            # 准备输入数据\n",
    "            x = torch.as_tensor(x, dtype=torch.float).to(device)\n",
    "            y = y.to(device)\n",
    "\n",
    "            # 前向传播\n",
    "            y_hat = net(x)\n",
    "            \n",
    "            # 计算损失\n",
    "            loss_temp = loss(y_hat, y)\n",
    "            loss_sum += loss_temp\n",
    "\n",
    "            # 反向传播和优化\n",
    "            optimizer.zero_grad()\n",
    "            loss_temp.backward()\n",
    "            optimizer.step()\n",
    "\n",
    "            # 计算准确数\n",
    "            acc += torch.sum(y_hat.argmax(dim=1).type(y.dtype) == y)\n",
    "            \n",
    "        # 更新学习率\n",
    "        scheduler.step()\n",
    "        # 记录平均损失\n",
    "        losses.append(loss_sum.cpu().detach().numpy() / len(train_loader))\n",
    "        # 打印训练结果\n",
    "        print('epoch: ', i,\n",
    "             'loss: ', loss_sum.item(),\n",
    "             'train acc: ', (acc / (len(train_loader) * train_loader.batch_size)).item(), end='')\n",
    "\n",
    "        # 验证阶段\n",
    "        valid_acc = 0  # 累计验证准确数\n",
    "        net.eval()\n",
    "        for x, y in tqdm(valid_loader):\n",
    "            # 准备输入数据\n",
    "            x = torch.as_tensor(x, dtype=torch.float).to(device)\n",
    "            y = y.to(device)\n",
    "\n",
    "            # 前向传播\n",
    "            with torch.no_grad():\n",
    "                y_hat = net(x)\n",
    "\n",
    "            # 计算准确数\n",
    "            valid_acc += torch.sum(y_hat.argmax(dim=1).type(y.dtype) == y)\n",
    "\n",
    "        # 打印验证准确率\n",
    "        print('valid acc: ', (valid_acc / (len(valid_loader) * valid_loader.batch_size)).item())\n",
    "\n",
    "        # 模型保存与早停\n",
    "        if valid_acc > best_score:\n",
    "            best_model_state = copy.deepcopy(net.state_dict())\n",
    "            best_score = valid_acc\n",
    "            best_epoch = i\n",
    "            print('best epoch save!')\n",
    "\n",
    "        if i - best_epoch >= early_stopping_round:\n",
    "            print(f'Early stopping at epoch {i}')\n",
    "            break\n",
    "\n",
    "    # 加载最佳模型\n",
    "    net.load_state_dict(best_model_state)\n",
    "            \n",
    "    # 加载测试数据\n",
    "    testset = Leaf_Dataset(test, transform=transforms_test, test_bool=True)\n",
    "    test_loader = torch.utils.data.DataLoader(testset, batch_size=64, shuffle=False, drop_last=False)\n",
    "\n",
    "    # 执行预测\n",
    "    predictions = []\n",
    "    with torch.no_grad():\n",
    "        for x in tqdm(test_loader):\n",
    "            x = torch.as_tensor(x, dtype=torch.float).to(device)\n",
    "\n",
    "            # 前向传播\n",
    "            y_hat = net(x)\n",
    "\n",
    "            # 获取预测结果\n",
    "            predict = torch.argmax(y_hat, dim=1).reshape(-1)\n",
    "            predict = list(predict.cpu().detach().numpy())\n",
    "            predictions.extend(predict)\n",
    "\n",
    "    return predictions"
   ]
  },
  {
   "cell_type": "code",
   "execution_count": 9,
   "id": "88a69f3d-ffbe-4d2f-a2e0-279ac4cffbae",
   "metadata": {},
   "outputs": [
    {
     "name": "stdout",
     "output_type": "stream",
     "text": [
      "fold 0 training...\n"
     ]
    },
    {
     "data": {
      "application/vnd.jupyter.widget-view+json": {
       "model_id": "aaf563e7cc2145a1a2fee115ae4d8317",
       "version_major": 2,
       "version_minor": 0
      },
      "text/plain": [
       "  0%|          | 0/459 [00:00<?, ?it/s]"
      ]
     },
     "metadata": {},
     "output_type": "display_data"
    },
    {
     "name": "stdout",
     "output_type": "stream",
     "text": [
      "epoch:  0 loss:  1339.2222900390625 train acc:  0.33905228972435"
     ]
    },
    {
     "data": {
      "application/vnd.jupyter.widget-view+json": {
       "model_id": "325e95bf5a16455f8868dd45042b3481",
       "version_major": 2,
       "version_minor": 0
      },
      "text/plain": [
       "  0%|          | 0/115 [00:00<?, ?it/s]"
      ]
     },
     "metadata": {},
     "output_type": "display_data"
    },
    {
     "name": "stdout",
     "output_type": "stream",
     "text": [
      "valid acc:  0.5809782147407532\n",
      "best epoch save!\n"
     ]
    },
    {
     "data": {
      "application/vnd.jupyter.widget-view+json": {
       "model_id": "5195c3197ea44203a5b8e46297b7368a",
       "version_major": 2,
       "version_minor": 0
      },
      "text/plain": [
       "  0%|          | 0/459 [00:00<?, ?it/s]"
      ]
     },
     "metadata": {},
     "output_type": "display_data"
    },
    {
     "ename": "KeyboardInterrupt",
     "evalue": "",
     "output_type": "error",
     "traceback": [
      "\u001b[1;31m---------------------------------------------------------------------------\u001b[0m",
      "\u001b[1;31mKeyboardInterrupt\u001b[0m                         Traceback (most recent call last)",
      "Cell \u001b[1;32mIn[9], line 24\u001b[0m\n\u001b[0;32m     21\u001b[0m valid_loader \u001b[38;5;241m=\u001b[39m torch\u001b[38;5;241m.\u001b[39mutils\u001b[38;5;241m.\u001b[39mdata\u001b[38;5;241m.\u001b[39mDataLoader(validset, batch_size\u001b[38;5;241m=\u001b[39m\u001b[38;5;241m32\u001b[39m, shuffle\u001b[38;5;241m=\u001b[39m\u001b[38;5;28;01mFalse\u001b[39;00m, drop_last \u001b[38;5;241m=\u001b[39m \u001b[38;5;28;01mFalse\u001b[39;00m)\n\u001b[0;32m     23\u001b[0m \u001b[38;5;66;03m# 训练模型并在测试集上预测\u001b[39;00m\n\u001b[1;32m---> 24\u001b[0m predictions \u001b[38;5;241m=\u001b[39m \u001b[43mtrain_model\u001b[49m\u001b[43m(\u001b[49m\u001b[43mtrain_loader\u001b[49m\u001b[43m,\u001b[49m\u001b[43m \u001b[49m\u001b[43mvalid_loader\u001b[49m\u001b[43m,\u001b[49m\u001b[43m \u001b[49m\u001b[43mtest\u001b[49m\u001b[43m)\u001b[49m\n\u001b[0;32m     26\u001b[0m \u001b[38;5;66;03m# 存储当前折的预测结果\u001b[39;00m\n\u001b[0;32m     27\u001b[0m prediction_KFold[\u001b[38;5;124mf\u001b[39m\u001b[38;5;124m'\u001b[39m\u001b[38;5;124mfold_\u001b[39m\u001b[38;5;132;01m{\u001b[39;00mfold_n\u001b[38;5;132;01m}\u001b[39;00m\u001b[38;5;124m'\u001b[39m] \u001b[38;5;241m=\u001b[39m predictions\n",
      "Cell \u001b[1;32mIn[8], line 30\u001b[0m, in \u001b[0;36mtrain_model\u001b[1;34m(train_loader, valid_loader, test, device)\u001b[0m\n\u001b[0;32m     27\u001b[0m net\u001b[38;5;241m.\u001b[39mtrain()  \n\u001b[0;32m     28\u001b[0m \u001b[38;5;28;01mfor\u001b[39;00m x, y \u001b[38;5;129;01min\u001b[39;00m tqdm(train_loader):\n\u001b[0;32m     29\u001b[0m     \u001b[38;5;66;03m# 准备输入数据\u001b[39;00m\n\u001b[1;32m---> 30\u001b[0m     x \u001b[38;5;241m=\u001b[39m \u001b[43mtorch\u001b[49m\u001b[38;5;241;43m.\u001b[39;49m\u001b[43mas_tensor\u001b[49m\u001b[43m(\u001b[49m\u001b[43mx\u001b[49m\u001b[43m,\u001b[49m\u001b[43m \u001b[49m\u001b[43mdtype\u001b[49m\u001b[38;5;241;43m=\u001b[39;49m\u001b[43mtorch\u001b[49m\u001b[38;5;241;43m.\u001b[39;49m\u001b[43mfloat\u001b[49m\u001b[43m)\u001b[49m\u001b[38;5;241;43m.\u001b[39;49m\u001b[43mto\u001b[49m\u001b[43m(\u001b[49m\u001b[43mdevice\u001b[49m\u001b[43m)\u001b[49m\n\u001b[0;32m     31\u001b[0m     y \u001b[38;5;241m=\u001b[39m y\u001b[38;5;241m.\u001b[39mto(device)\n\u001b[0;32m     33\u001b[0m     \u001b[38;5;66;03m# 前向传播\u001b[39;00m\n",
      "\u001b[1;31mKeyboardInterrupt\u001b[0m: "
     ]
    }
   ],
   "source": [
    "# 初始化分层K折交叉验证器\n",
    "skf = StratifiedKFold(n_splits=5, shuffle=True, random_state=2025)\n",
    "\n",
    "# 创建空 DataFrame 存储各折的预测结果\n",
    "prediction_KFold = pd.DataFrame()\n",
    "\n",
    "# 开始K折交叉验证\n",
    "for fold_n, (train_idx, val_idx) in enumerate(skf.split(train, train['number'])):\n",
    "    print(f'fold {fold_n} training...')\n",
    "\n",
    "    # 划分训练集和验证集\n",
    "    train_data = train.iloc[train_idx]\n",
    "    valid_data = train.iloc[val_idx]\n",
    "\n",
    "    # 创建数据集对象\n",
    "    trainset = Leaf_Dataset(train_data, transform=transforms_train)\n",
    "    validset = Leaf_Dataset(valid_data, transform=transforms_test)\n",
    "\n",
    "    # 创建数据加载器\n",
    "    train_loader = torch.utils.data.DataLoader(trainset, batch_size=32, shuffle=True, drop_last=False)\n",
    "    valid_loader = torch.utils.data.DataLoader(validset, batch_size=32, shuffle=False, drop_last = False)\n",
    "\n",
    "    # 训练模型并在测试集上预测\n",
    "    predictions = train_model(train_loader, valid_loader, test)\n",
    "\n",
    "    # 存储当前折的预测结果\n",
    "    prediction_KFold[f'fold_{fold_n}'] = predictions"
   ]
  },
  {
   "cell_type": "code",
   "execution_count": null,
   "id": "49bada8a-664c-483a-86db-8be03c1ce64f",
   "metadata": {},
   "outputs": [],
   "source": [
    "# 查看各折预测结果\n",
    "print(prediction_KFold)"
   ]
  },
  {
   "cell_type": "code",
   "execution_count": null,
   "id": "a5e27d71-c1b3-4cda-99ec-8ee76874f0ea",
   "metadata": {},
   "outputs": [],
   "source": [
    "# 最终预测结果采取众数投票选出\n",
    "prediction_final = list(prediction_KFold.mode(axis=1)[0].astype(int))\n",
    "\n",
    "# 数字标签转换回文本标签\n",
    "test['label'] = [labels_unique[i] for i in prediction_final]\n",
    "\n",
    "# 保存结果文件\n",
    "test.to_csv('../dataset/result3.csv', index=False)"
   ]
  }
 ],
 "metadata": {
  "kernelspec": {
   "display_name": "Python 3 (ipykernel)",
   "language": "python",
   "name": "python3"
  },
  "language_info": {
   "codemirror_mode": {
    "name": "ipython",
    "version": 3
   },
   "file_extension": ".py",
   "mimetype": "text/x-python",
   "name": "python",
   "nbconvert_exporter": "python",
   "pygments_lexer": "ipython3",
   "version": "3.9.23"
  }
 },
 "nbformat": 4,
 "nbformat_minor": 5
}
